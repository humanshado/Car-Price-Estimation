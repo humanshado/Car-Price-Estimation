{
 "cells": [
  {
   "cell_type": "markdown",
   "id": "cfe27c6f-89d4-47ae-8b3e-3d446b4e50ae",
   "metadata": {},
   "source": [
    "### Estimation of Car Prices using Linear Regression\n",
    "\n",
    "* Data source: Kaggle\n",
    "* Data: Car Features and MRSP\n",
    "* url: https://www.kaggle.com/CooperUnion/cardataset\n",
    "\n",
    "#### Questions:\n",
    "\n",
    "1. What are the 5 most popular cars?\n",
    "2. How does miles per gallon relates to popularity of a car? \n",
    " \n",
    "\n",
    "\n",
    "\n"
   ]
  },
  {
   "cell_type": "markdown",
   "id": "3b82bb45-4b4a-46fa-9e98-cde749d84561",
   "metadata": {},
   "source": [
    "_____________________________________________________________________________________________"
   ]
  },
  {
   "cell_type": "code",
   "execution_count": 7,
   "id": "337406eb-373c-4c17-b737-7da7b664d5d1",
   "metadata": {},
   "outputs": [],
   "source": [
    "import numpy as np\n",
    "import pandas as pd\n",
    "import matplotlib.pyplot as plt\n",
    "import seaborn as sns\n",
    "\n",
    "%matplotlib inline"
   ]
  },
  {
   "cell_type": "code",
   "execution_count": null,
   "id": "8af14e39-682a-4d23-a2d3-7dd1d4af2018",
   "metadata": {},
   "outputs": [],
   "source": []
  }
 ],
 "metadata": {
  "kernelspec": {
   "display_name": "Python 3",
   "language": "python",
   "name": "python3"
  },
  "language_info": {
   "codemirror_mode": {
    "name": "ipython",
    "version": 3
   },
   "file_extension": ".py",
   "mimetype": "text/x-python",
   "name": "python",
   "nbconvert_exporter": "python",
   "pygments_lexer": "ipython3",
   "version": "3.8.10"
  }
 },
 "nbformat": 4,
 "nbformat_minor": 5
}
